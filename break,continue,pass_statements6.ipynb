{
  "nbformat": 4,
  "nbformat_minor": 0,
  "metadata": {
    "colab": {
      "name": "break,continue,pass statements6.ipynb",
      "provenance": [],
      "authorship_tag": "ABX9TyPqBHpu4aqGAP2C6w8lhH66",
      "include_colab_link": true
    },
    "kernelspec": {
      "name": "python3",
      "display_name": "Python 3"
    },
    "language_info": {
      "name": "python"
    }
  },
  "cells": [
    {
      "cell_type": "markdown",
      "metadata": {
        "id": "view-in-github",
        "colab_type": "text"
      },
      "source": [
        "<a href=\"https://colab.research.google.com/github/kamesh41/EDA/blob/main/break%2Ccontinue%2Cpass_statements6.ipynb\" target=\"_parent\"><img src=\"https://colab.research.google.com/assets/colab-badge.svg\" alt=\"Open In Colab\"/></a>"
      ]
    },
    {
      "cell_type": "code",
      "execution_count": 8,
      "metadata": {
        "colab": {
          "base_uri": "https://localhost:8080/"
        },
        "id": "QSx44fbdIU-D",
        "outputId": "e8bbd143-60bf-4011-df52-17862e43f5ac"
      },
      "outputs": [
        {
          "output_type": "stream",
          "name": "stdout",
          "text": [
            "1\n",
            "2\n",
            "3\n",
            "4\n"
          ]
        }
      ],
      "source": [
        "for i in range(1,10):\n",
        "  if i%5==0:\n",
        "    break\n",
        "  print(i)\n"
      ]
    },
    {
      "cell_type": "code",
      "source": [
        "print(i)"
      ],
      "metadata": {
        "colab": {
          "base_uri": "https://localhost:8080/"
        },
        "id": "rKfr9GONIWve",
        "outputId": "4a244e0a-d15d-43d6-d748-8e8cb00aecaa"
      },
      "execution_count": 9,
      "outputs": [
        {
          "output_type": "stream",
          "name": "stdout",
          "text": [
            "5\n"
          ]
        }
      ]
    },
    {
      "cell_type": "code",
      "source": [
        ""
      ],
      "metadata": {
        "id": "Rw-Na7m9IW49"
      },
      "execution_count": null,
      "outputs": []
    },
    {
      "cell_type": "code",
      "execution_count": 10,
      "metadata": {
        "colab": {
          "base_uri": "https://localhost:8080/"
        },
        "outputId": "c208889b-71b6-4b96-f698-6f9124f65a8c",
        "id": "xEc_zGnCJnyO"
      },
      "outputs": [
        {
          "output_type": "stream",
          "name": "stdout",
          "text": [
            "1\n",
            "2\n",
            "3\n",
            "4\n",
            "5\n",
            "6\n",
            "7\n",
            "8\n",
            "9\n"
          ]
        }
      ],
      "source": [
        "for i in range(1,10):\n",
        "  if i%5==0:\n",
        "    pass\n",
        "  print(i)\n"
      ]
    },
    {
      "cell_type": "code",
      "source": [
        ""
      ],
      "metadata": {
        "id": "HANDzz4vIW9N"
      },
      "execution_count": null,
      "outputs": []
    },
    {
      "cell_type": "code",
      "execution_count": 11,
      "metadata": {
        "colab": {
          "base_uri": "https://localhost:8080/"
        },
        "outputId": "62396d13-ddf8-4be1-e6ab-d29a6b65faa5",
        "id": "mx86UCpTJ0P6"
      },
      "outputs": [
        {
          "output_type": "stream",
          "name": "stdout",
          "text": [
            "1\n",
            "2\n",
            "3\n",
            "4\n",
            "6\n",
            "7\n",
            "8\n",
            "9\n"
          ]
        }
      ],
      "source": [
        "for i in range(1,10):\n",
        "  if i%5==0:\n",
        "    continue\n",
        "  print(i)\n"
      ]
    },
    {
      "cell_type": "code",
      "source": [
        "count=1\n",
        "while count<5:\n",
        "  count=count+1\n",
        "  print('hi')\n",
        "  if count==4:\n",
        "     break\n"
      ],
      "metadata": {
        "colab": {
          "base_uri": "https://localhost:8080/"
        },
        "id": "lZ3nwgkLIXBN",
        "outputId": "a9c0aa00-9631-41e8-e5d8-e60f6a872d3c"
      },
      "execution_count": 2,
      "outputs": [
        {
          "output_type": "stream",
          "name": "stdout",
          "text": [
            "hi\n",
            "hi\n",
            "hi\n"
          ]
        }
      ]
    },
    {
      "cell_type": "code",
      "source": [
        "count=1\n",
        "while count<=5:\n",
        "  count=count+1\n",
        "  print('hi')\n",
        "\n"
      ],
      "metadata": {
        "colab": {
          "base_uri": "https://localhost:8080/"
        },
        "id": "r6ySYw3aIXEY",
        "outputId": "d0700b6f-d3f0-4f07-818b-17900442fed3"
      },
      "execution_count": 1,
      "outputs": [
        {
          "output_type": "stream",
          "name": "stdout",
          "text": [
            "hi\n",
            "hi\n",
            "hi\n",
            "hi\n",
            "hi\n"
          ]
        }
      ]
    },
    {
      "cell_type": "code",
      "source": [
        "for i in range(1,10):\n",
        "  if i%6==0:\n",
        "    break\n",
        "  print(i)"
      ],
      "metadata": {
        "colab": {
          "base_uri": "https://localhost:8080/"
        },
        "id": "9tc7QvYRIXIC",
        "outputId": "4cd877bd-d4a5-4754-c18c-f20d4b881fab"
      },
      "execution_count": 3,
      "outputs": [
        {
          "output_type": "stream",
          "name": "stdout",
          "text": [
            "1\n",
            "2\n",
            "3\n",
            "4\n",
            "5\n"
          ]
        }
      ]
    },
    {
      "cell_type": "code",
      "source": [
        "for i in range(1,10):\n",
        "  if i==6:\n",
        "   continue\n",
        "  print(i)"
      ],
      "metadata": {
        "colab": {
          "base_uri": "https://localhost:8080/"
        },
        "id": "r62WIAa_IXLS",
        "outputId": "8e705be8-5bf0-4d66-9b3f-77522716cbd6"
      },
      "execution_count": 13,
      "outputs": [
        {
          "output_type": "stream",
          "name": "stdout",
          "text": [
            "1\n",
            "2\n",
            "3\n",
            "4\n",
            "5\n",
            "7\n",
            "8\n",
            "9\n"
          ]
        }
      ]
    },
    {
      "cell_type": "code",
      "source": [
        "count=1\n",
        "while count<5:\n",
        "  count=count+1\n",
        "  print(\"hello\")\n",
        "  if count==4:\n",
        "    break"
      ],
      "metadata": {
        "colab": {
          "base_uri": "https://localhost:8080/"
        },
        "id": "rzTy_whIIXPd",
        "outputId": "47fbc62b-2c4f-44b7-9726-dff3599e91df"
      },
      "execution_count": 4,
      "outputs": [
        {
          "output_type": "stream",
          "name": "stdout",
          "text": [
            "hello\n",
            "hello\n",
            "hello\n"
          ]
        }
      ]
    },
    {
      "cell_type": "code",
      "source": [
        "class  Employee:\n",
        "  def __init__(self,name,age,dept):\n",
        "    self.name=name\n",
        "    self.age=age\n",
        "    self.dept=dept\n",
        "  def show_employee_details(self):\n",
        "    print('name of the employee',self.name)\n",
        "    print('age of employee',self.age)\n",
        "    print('dept of employee',self.dept)\n",
        "\n"
      ],
      "metadata": {
        "id": "FYQBY1LJNh8d"
      },
      "execution_count": 8,
      "outputs": []
    },
    {
      "cell_type": "code",
      "source": [
        "e1=Employee('kamesh',35,'rmhs')"
      ],
      "metadata": {
        "id": "lGyukDOkNiBW"
      },
      "execution_count": 10,
      "outputs": []
    },
    {
      "cell_type": "code",
      "source": [
        "e1.show_employee_details()"
      ],
      "metadata": {
        "colab": {
          "base_uri": "https://localhost:8080/"
        },
        "id": "zgX__xWpNiNt",
        "outputId": "3c002857-a07a-4be8-c276-5141c6f60e67"
      },
      "execution_count": 11,
      "outputs": [
        {
          "output_type": "stream",
          "name": "stdout",
          "text": [
            "name of the employee kamesh\n",
            "age of employee 35\n",
            "dept of employee rmhs\n"
          ]
        }
      ]
    },
    {
      "cell_type": "code",
      "source": [
        "class Vehicle:\n",
        "  def __init__(self,mileage,cost):\n",
        "    self.mileage=mileage\n",
        "    self.cost=cost\n",
        "  def show_vehicle_details(self):\n",
        "    print('mileage of vehicle is',self.mileage)  \n",
        "    print('cost of vehicle is',self.cost)"
      ],
      "metadata": {
        "id": "mr4zkyfZ37Dq"
      },
      "execution_count": 23,
      "outputs": []
    },
    {
      "cell_type": "code",
      "source": [
        "v1=Vehicle(30,20000)\n"
      ],
      "metadata": {
        "id": "EMNko7RJ37Gu"
      },
      "execution_count": 24,
      "outputs": []
    },
    {
      "cell_type": "code",
      "source": [
        "v1.show_vehicle_details()"
      ],
      "metadata": {
        "colab": {
          "base_uri": "https://localhost:8080/"
        },
        "id": "vaiwMuMS37KC",
        "outputId": "6c80b14e-9b57-447a-a7df-c1baa3782da6"
      },
      "execution_count": 25,
      "outputs": [
        {
          "output_type": "stream",
          "name": "stdout",
          "text": [
            "mileage of vehicle is 30\n",
            "cost of vehicle is 20000\n"
          ]
        }
      ]
    },
    {
      "cell_type": "code",
      "source": [
        "class Car(Vehicle):\n",
        "  def __init__(self,mileage,cost,tyres,hp):\n",
        "    super().__init__(mileage,cost)\n",
        "    self.tyres=tyres\n",
        "    self.hp=hp\n",
        "  def show_car_details(self):\n",
        "      print('no of tyres is',self.tyres)\n",
        "      print('hp of car is',self.hp)\n",
        "      print('my name is car')\n",
        "    \n"
      ],
      "metadata": {
        "id": "ltRIRoIg37M9"
      },
      "execution_count": 51,
      "outputs": []
    },
    {
      "cell_type": "code",
      "source": [
        "c1=Car(25,30000,8,750)"
      ],
      "metadata": {
        "id": "sgrczJlE-EzO"
      },
      "execution_count": 55,
      "outputs": []
    },
    {
      "cell_type": "code",
      "source": [
        "c1.show_vehicle_details()"
      ],
      "metadata": {
        "colab": {
          "base_uri": "https://localhost:8080/"
        },
        "id": "UCb8y1-s-E4Z",
        "outputId": "3371bba1-b5fe-4f1f-9775-4b5014bbc0e6"
      },
      "execution_count": 56,
      "outputs": [
        {
          "output_type": "stream",
          "name": "stdout",
          "text": [
            "mileage of vehicle is 25\n",
            "cost of vehicle is 30000\n"
          ]
        }
      ]
    },
    {
      "cell_type": "code",
      "source": [
        "c1.show_car_details()"
      ],
      "metadata": {
        "colab": {
          "base_uri": "https://localhost:8080/"
        },
        "id": "0rimtEoD-E8E",
        "outputId": "2a11b9bc-d318-47e2-a8f0-8df1758d35b4"
      },
      "execution_count": 54,
      "outputs": [
        {
          "output_type": "stream",
          "name": "stdout",
          "text": [
            "no of tyres is 8\n",
            "hp of car is 750\n",
            "my name is car\n"
          ]
        }
      ]
    },
    {
      "cell_type": "code",
      "source": [
        ""
      ],
      "metadata": {
        "id": "oYtHwc5j-E_X"
      },
      "execution_count": null,
      "outputs": []
    },
    {
      "cell_type": "code",
      "source": [
        ""
      ],
      "metadata": {
        "id": "rGCzNUux-FCn"
      },
      "execution_count": null,
      "outputs": []
    },
    {
      "cell_type": "code",
      "source": [
        ""
      ],
      "metadata": {
        "id": "Lg8l0H7n-FGC"
      },
      "execution_count": null,
      "outputs": []
    },
    {
      "cell_type": "code",
      "source": [
        ""
      ],
      "metadata": {
        "id": "5I3gLP1X37ZB"
      },
      "execution_count": null,
      "outputs": []
    }
  ]
}