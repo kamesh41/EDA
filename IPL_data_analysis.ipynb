{
  "nbformat": 4,
  "nbformat_minor": 0,
  "metadata": {
    "colab": {
      "name": "IPL data analysis",
      "provenance": [],
      "collapsed_sections": [
        "_zfLH6koOUpa"
      ]
    },
    "kernelspec": {
      "name": "python3",
      "display_name": "Python 3"
    }
  },
  "cells": [
    {
      "cell_type": "markdown",
      "metadata": {
        "id": "_zfLH6koOUpa"
      },
      "source": [
        "# **EDA on IPL Dataset**"
      ]
    },
    {
      "cell_type": "markdown",
      "metadata": {
        "id": "Jnoio_RPOcMp"
      },
      "source": [
        "**Importing libraries**"
      ]
    },
    {
      "cell_type": "code",
      "metadata": {
        "id": "-Qi3GLYcAQSt"
      },
      "source": [
        "import pandas as pd\n",
        "import numpy as np\n",
        "import matplotlib.pyplot as plt\n",
        "import seaborn as sns\n",
        "%matplotlib inline"
      ],
      "execution_count": null,
      "outputs": []
    },
    {
      "cell_type": "markdown",
      "metadata": {
        "id": "K4rjUyH8ltfb"
      },
      "source": [
        "**Importing IPL dataset**"
      ]
    },
    {
      "cell_type": "code",
      "metadata": {
        "id": "Pl4UsxCB1Gxn"
      },
      "source": [
        "from google.colab import drive\n",
        "drive.mount('/content/drive')"
      ],
      "execution_count": null,
      "outputs": []
    },
    {
      "cell_type": "code",
      "metadata": {
        "id": "rHc1s7t_ASwd"
      },
      "source": [
        "data=pd.read_csv(\"/content/drive/MyDrive/Datasets/matches.csv\")\n",
        "data.head(5)"
      ],
      "execution_count": null,
      "outputs": []
    },
    {
      "cell_type": "markdown",
      "metadata": {
        "id": "wToeqrVWlw5C"
      },
      "source": [
        "**How big is the dataset? (Rows and columns)**"
      ]
    },
    {
      "cell_type": "code",
      "metadata": {
        "id": "STh-IfaGAbL0"
      },
      "source": [
        "data.shape"
      ],
      "execution_count": null,
      "outputs": []
    },
    {
      "cell_type": "code",
      "metadata": {
        "id": "SVOdqTeAAe5u"
      },
      "source": [
        "data.info"
      ],
      "execution_count": null,
      "outputs": []
    },
    {
      "cell_type": "markdown",
      "metadata": {
        "id": "aDmra-mPl2T7"
      },
      "source": [
        "**Data Pre-processing: Finding out NaN values**"
      ]
    },
    {
      "cell_type": "code",
      "metadata": {
        "id": "R2ZnDchwAhFz"
      },
      "source": [
        "data.isna().any()"
      ],
      "execution_count": null,
      "outputs": []
    },
    {
      "cell_type": "markdown",
      "metadata": {
        "id": "BVYb8Kv-O2eH"
      },
      "source": [
        "**Statistical Description of dataset**"
      ]
    },
    {
      "cell_type": "code",
      "metadata": {
        "id": "QBMBEJZLAj46"
      },
      "source": [
        "data.describe()"
      ],
      "execution_count": null,
      "outputs": []
    },
    {
      "cell_type": "markdown",
      "metadata": {
        "id": "kyOE9s0Kl6dp"
      },
      "source": [
        "**How many matches (in total) were played according to the dataset?**"
      ]
    },
    {
      "cell_type": "code",
      "metadata": {
        "id": "4rkt6Uu9AoC9"
      },
      "source": [
        "data['id'].count()"
      ],
      "execution_count": null,
      "outputs": []
    },
    {
      "cell_type": "markdown",
      "metadata": {
        "id": "6MpaXFjWl9JN"
      },
      "source": [
        "**How many IPL seasons are we using to analyse?**"
      ]
    },
    {
      "cell_type": "code",
      "metadata": {
        "id": "ob_BJybJBAHN"
      },
      "source": [
        "data['Season'].unique()"
      ],
      "execution_count": null,
      "outputs": []
    },
    {
      "cell_type": "markdown",
      "metadata": {
        "id": "VSddMA2OmAgG"
      },
      "source": [
        "**Which IPL team won by scoring the maximum runs?**"
      ]
    },
    {
      "cell_type": "code",
      "metadata": {
        "id": "t-l4GNoDBRa4"
      },
      "source": [
        "data.iloc[data['win_by_runs'].idxmax()]"
      ],
      "execution_count": null,
      "outputs": []
    },
    {
      "cell_type": "markdown",
      "metadata": {
        "id": "q2or1qahmI7o"
      },
      "source": [
        "**Which IPL team won by consuming maximum wickets?**\n"
      ]
    },
    {
      "cell_type": "code",
      "metadata": {
        "id": "hnDQ_E6qCQi3"
      },
      "source": [
        "data.iloc[data['win_by_wickets'].idxmax()]"
      ],
      "execution_count": null,
      "outputs": []
    },
    {
      "cell_type": "markdown",
      "metadata": {
        "id": "R66Xifm7QO34"
      },
      "source": [
        "**Which IPL team won by taking minimum wickets?**\n"
      ]
    },
    {
      "cell_type": "code",
      "metadata": {
        "id": "KryDLMs3P-pH"
      },
      "source": [
        "data.iloc[data['win_by_wickets'].idxmin()]"
      ],
      "execution_count": null,
      "outputs": []
    },
    {
      "cell_type": "markdown",
      "metadata": {
        "id": "hHB8ZcmVmPOp"
      },
      "source": [
        "**Which season consisted of the highest number of matches ever played?**"
      ]
    },
    {
      "cell_type": "code",
      "metadata": {
        "id": "ePMr2SKECBxe"
      },
      "source": [
        "fig_dims = (20, 4)\n",
        "fig, ax = plt.subplots(figsize=fig_dims)\n",
        "sns.countplot(x='Season', ax=ax,data=data)\n",
        "plt.show()"
      ],
      "execution_count": null,
      "outputs": []
    },
    {
      "cell_type": "markdown",
      "metadata": {
        "id": "7peS69c4ma8i"
      },
      "source": [
        "**Which is the most successful IPL team with all the data at hand?**"
      ]
    },
    {
      "cell_type": "code",
      "metadata": {
        "id": "WlJtoQwEDght"
      },
      "source": [
        "data1 = data.winner.value_counts()\n",
        "sns.barplot(y = data1.index, x = data1)"
      ],
      "execution_count": null,
      "outputs": []
    },
    {
      "cell_type": "markdown",
      "metadata": {
        "id": "ARp-eZYommux"
      },
      "source": [
        "**What is the probability of winning a match if the toss was won?**"
      ]
    },
    {
      "cell_type": "code",
      "metadata": {
        "id": "YyLJQnpliAnB"
      },
      "source": [
        "probability_of_win = data['toss_winner'] == data['winner']\n",
        "\n",
        "probability_of_win.groupby(probability_of_win).size()"
      ],
      "execution_count": null,
      "outputs": []
    },
    {
      "cell_type": "code",
      "metadata": {
        "id": "GiQ3zNFBiXEB"
      },
      "source": [
        "sns.countplot(probability_of_win)"
      ],
      "execution_count": null,
      "outputs": []
    },
    {
      "cell_type": "markdown",
      "metadata": {
        "id": "cJtZAMQlNoId"
      },
      "source": [
        "**Setting a higher row width**"
      ]
    },
    {
      "cell_type": "code",
      "metadata": {
        "id": "E_DjdI37NZK9"
      },
      "source": [
        "pd.set_option('max_rows', 99999)\n",
        "pd.set_option('max_colwidth', 400)\n",
        "pd.describe_option('max_colwidth')"
      ],
      "execution_count": null,
      "outputs": []
    },
    {
      "cell_type": "markdown",
      "metadata": {
        "id": "JB04B7MqkLxo"
      },
      "source": [
        "**Highest wins by teams per season**"
      ]
    },
    {
      "cell_type": "code",
      "metadata": {
        "id": "w_bV1Dn-jMfH"
      },
      "source": [
        "data.groupby('Season')['winner'].value_counts()"
      ],
      "execution_count": null,
      "outputs": []
    },
    {
      "cell_type": "code",
      "metadata": {
        "id": "IpWs9k-Ukspw"
      },
      "source": [
        "data['toss_decision'].value_counts()"
      ],
      "execution_count": null,
      "outputs": []
    },
    {
      "cell_type": "markdown",
      "metadata": {
        "id": "6bOJue9ITSq4"
      },
      "source": [
        "**Man of the match - Highest to lowest (in won matches)**"
      ]
    },
    {
      "cell_type": "code",
      "metadata": {
        "id": "DHgFoju4k5PU"
      },
      "source": [
        "data['player_of_match'].value_counts()"
      ],
      "execution_count": null,
      "outputs": []
    },
    {
      "cell_type": "markdown",
      "metadata": {
        "id": "H9Jy2KqTTeDv"
      },
      "source": [
        "**In which city were the number of matches played?**"
      ]
    },
    {
      "cell_type": "code",
      "metadata": {
        "id": "P6NnwPxXlVVD"
      },
      "source": [
        "data['city'].value_counts()"
      ],
      "execution_count": null,
      "outputs": []
    },
    {
      "cell_type": "markdown",
      "metadata": {
        "id": "cFPVyQeBTiWn"
      },
      "source": [
        "\n",
        "\n",
        "---\n",
        "\n"
      ]
    }
  ]
}